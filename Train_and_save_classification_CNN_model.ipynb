{
 "cells": [
  {
   "cell_type": "markdown",
   "id": "8795d91f",
   "metadata": {},
   "source": [
    "# Import libraries"
   ]
  },
  {
   "cell_type": "code",
   "execution_count": 38,
   "id": "4d02f46d",
   "metadata": {},
   "outputs": [],
   "source": [
    "import numpy as np\n",
    "import pandas as pd\n",
    "import io\n",
    "from PIL import Image\n",
    "import os\n",
    "import re\n",
    "import matplotlib.pyplot as plt\n",
    "\n",
    "import torch\n",
    "from torchvision import transforms,datasets \n",
    "from torch.autograd import Variable\n",
    "from nn_arch import Net\n",
    "from torch.utils.data.sampler import SubsetRandomSampler\n",
    "from torch.nn import Linear, ReLU, Sequential, Conv2d, MaxPool2d, Module, BatchNorm2d, LogSoftmax, NLLLoss\n",
    "from torch.optim import Adam"
   ]
  },
  {
   "cell_type": "markdown",
   "id": "fd650647",
   "metadata": {},
   "source": [
    "# Check data and define data loader"
   ]
  },
  {
   "cell_type": "code",
   "execution_count": 13,
   "id": "1b08e1e5",
   "metadata": {},
   "outputs": [],
   "source": [
    "def check_number_of_samples(data_path:str): \n",
    "    ''''''\n",
    "    nsamples_di = {}\n",
    "    for i in os.listdir(data_path): \n",
    "        if re.findall('DS_', i): \n",
    "            continue\n",
    "        else: \n",
    "            num_samples = len(os.listdir(f'{data_path}/{i}'))\n",
    "            print(f'Class {i}; Number of samples: {num_samples}')"
   ]
  },
  {
   "cell_type": "code",
   "execution_count": 14,
   "id": "3aefa3ab",
   "metadata": {
    "scrolled": false
   },
   "outputs": [
    {
     "name": "stdout",
     "output_type": "stream",
     "text": [
      "Check number of samples in each class..\n",
      "\n",
      "Class Bed; Number of samples: 100\n",
      "Class Chair; Number of samples: 100\n",
      "Class Sofa; Number of samples: 100\n"
     ]
    }
   ],
   "source": [
    "print('Check number of samples in each class..\\n')\n",
    "data_path = \"Data for test\"\n",
    "check_number_of_samples(data_path)"
   ]
  },
  {
   "cell_type": "code",
   "execution_count": null,
   "id": "aaf21f47",
   "metadata": {},
   "outputs": [],
   "source": [
    "# load the data"
   ]
  },
  {
   "cell_type": "code",
   "execution_count": 18,
   "id": "98fec3fc",
   "metadata": {},
   "outputs": [],
   "source": [
    "def load_split_train_test(datadir, valid_size = .1):\n",
    "    ''''''\n",
    "    train_transforms = transforms.Compose(\n",
    "        [\n",
    "         transforms.Resize((224,224)),\n",
    "         transforms.ToTensor(),\n",
    "        ]\n",
    "    )\n",
    "    \n",
    "    test_transforms = transforms.Compose(\n",
    "        [\n",
    "         transforms.Resize((224,224)),\n",
    "         transforms.ToTensor(),\n",
    "        ]\n",
    "    )\n",
    "    \n",
    "    train_data = datasets.ImageFolder(datadir,       \n",
    "                    transform=train_transforms)\n",
    "    \n",
    "    test_data = datasets.ImageFolder(datadir,\n",
    "                    transform=test_transforms)\n",
    "    \n",
    "    num_train = len(train_data)\n",
    "    indices = list(range(num_train))\n",
    "    split = int(np.floor(valid_size * num_train))\n",
    "    np.random.shuffle(indices)\n",
    "\n",
    "    train_idx, test_idx = indices[split:], indices[:split]\n",
    "    train_sampler = SubsetRandomSampler(train_idx)\n",
    "    test_sampler = SubsetRandomSampler(test_idx)\n",
    "    trainloader = torch.utils.data.DataLoader(train_data,\n",
    "                   sampler=train_sampler, batch_size=5)\n",
    "    testloader = torch.utils.data.DataLoader(test_data,\n",
    "                   sampler=test_sampler, batch_size=5)\n",
    "    return trainloader, testloader"
   ]
  },
  {
   "cell_type": "code",
   "execution_count": 19,
   "id": "6f543166",
   "metadata": {
    "scrolled": true
   },
   "outputs": [],
   "source": [
    "data_dir = 'Data for test/'\n",
    "trainloader, testloader = load_split_train_test(data_dir, .2)"
   ]
  },
  {
   "cell_type": "code",
   "execution_count": 20,
   "id": "90e7e1d1",
   "metadata": {
    "scrolled": false
   },
   "outputs": [
    {
     "data": {
      "text/plain": [
       "0    20\n",
       "1    20\n",
       "2    20\n",
       "dtype: int64"
      ]
     },
     "execution_count": 20,
     "metadata": {},
     "output_type": "execute_result"
    },
    {
     "data": {
      "image/png": "[encoded data removed]",
      "text/plain": [
       "<Figure size 432x288 with 1 Axes>"
      ]
     },
     "metadata": {
      "needs_background": "light"
     },
     "output_type": "display_data"
    }
   ],
   "source": [
    "# size of test classes need to be fixed:\n",
    "test_trgts = []\n",
    "for _, trgt in testloader: \n",
    "    test_trgts+= trgt.tolist()\n",
    "    \n",
    "pd.Series(test_trgts).hist()\n",
    "pd.Series(test_trgts).value_counts()"
   ]
  },
  {
   "cell_type": "markdown",
   "id": "5a21fda1",
   "metadata": {},
   "source": [
    "# Model architecture"
   ]
  },
  {
   "cell_type": "code",
   "execution_count": 23,
   "id": "0b113319",
   "metadata": {},
   "outputs": [],
   "source": [
    "class Net(Module):   \n",
    "    def __init__(self):\n",
    "        super(Net, self).__init__()\n",
    "\n",
    "        self.cnn_layer = Sequential(\n",
    "            # Defining a 2D convolution layer\n",
    "            Conv2d(3, 6, kernel_size=3, stride=1, padding=1),\n",
    "            BatchNorm2d(6),\n",
    "            ReLU(inplace=True),\n",
    "            MaxPool2d(kernel_size=2, stride=2),\n",
    "            # Defining a 2D convolution layer\n",
    "            Conv2d(6, 12, kernel_size=3, stride=1, padding=1),\n",
    "            BatchNorm2d(12),\n",
    "            ReLU(inplace=True),\n",
    "            MaxPool2d(kernel_size=2, stride=2),\n",
    "            # Defining a 2D convolution layer\n",
    "            Conv2d(12, 18, kernel_size=3, stride=1, padding=1),\n",
    "            BatchNorm2d(18),\n",
    "            ReLU(inplace=True),\n",
    "            MaxPool2d(kernel_size=2, stride=2),\n",
    "            # Defining a 2D convolution layer\n",
    "            Conv2d(18, 36, kernel_size=3, stride=1, padding=1),\n",
    "            BatchNorm2d(36),\n",
    "            ReLU(inplace=True),\n",
    "            MaxPool2d(kernel_size=2, stride=2),\n",
    "        )\n",
    "\n",
    "        self.linear_layers = Sequential(\n",
    "            Linear(36 * 14 * 14, 3)\n",
    "        )\n",
    "        \n",
    "        self.lsoftmax = LogSoftmax(dim=1)\n",
    "\n",
    "    # Defining the forward pass    \n",
    "    def forward(self, x):\n",
    "        x = self.cnn_layer(x)\n",
    "        x = torch.flatten(x, 1)\n",
    "        x = self.linear_layers(x)\n",
    "        x = self.lsoftmax(x)\n",
    "        \n",
    "        return x"
   ]
  },
  {
   "cell_type": "markdown",
   "id": "19aa5eac",
   "metadata": {},
   "source": [
    "## Cheking forward pass"
   ]
  },
  {
   "cell_type": "code",
   "execution_count": 24,
   "id": "19e22e7a",
   "metadata": {
    "scrolled": false
   },
   "outputs": [
    {
     "name": "stdout",
     "output_type": "stream",
     "text": [
      "torch.Size([5, 3, 224, 224])\n",
      "torch.Size([5, 3])\n",
      "tensor([[-1.9413, -1.1773, -0.6008],\n",
      "        [-1.4104, -1.0427, -0.9077],\n",
      "        [-1.9513, -1.6649, -0.4024],\n",
      "        [-1.6153, -1.3647, -0.6057],\n",
      "        [-1.2727, -1.0926, -0.9556]], grad_fn=<LogSoftmaxBackward0>)\n"
     ]
    }
   ],
   "source": [
    "# ToDo: write asserts \n",
    "for ts, _ in trainloader:\n",
    "    break\n",
    "    \n",
    "print(ts.shape)\n",
    "\n",
    "tmodel = Net()\n",
    "r = tmodel.forward(ts)\n",
    "print(r.shape)\n",
    "print(r)\n",
    "del ts, _, tmodel, r"
   ]
  },
  {
   "cell_type": "markdown",
   "id": "7b3a4f90",
   "metadata": {},
   "source": [
    "##  Initializing the model and count parametrs "
   ]
  },
  {
   "cell_type": "code",
   "execution_count": 35,
   "id": "01accc6b",
   "metadata": {},
   "outputs": [
    {
     "name": "stdout",
     "output_type": "stream",
     "text": [
      "Available device: cpu\n",
      "Number of params: 29973\n",
      "Net(\n",
      "  (cnn_layer): Sequential(\n",
      "    (0): Conv2d(3, 6, kernel_size=(3, 3), stride=(1, 1), padding=(1, 1))\n",
      "    (1): BatchNorm2d(6, eps=1e-05, momentum=0.1, affine=True, track_running_stats=True)\n",
      "    (2): ReLU(inplace=True)\n",
      "    (3): MaxPool2d(kernel_size=2, stride=2, padding=0, dilation=1, ceil_mode=False)\n",
      "    (4): Conv2d(6, 12, kernel_size=(3, 3), stride=(1, 1), padding=(1, 1))\n",
      "    (5): BatchNorm2d(12, eps=1e-05, momentum=0.1, affine=True, track_running_stats=True)\n",
      "    (6): ReLU(inplace=True)\n",
      "    (7): MaxPool2d(kernel_size=2, stride=2, padding=0, dilation=1, ceil_mode=False)\n",
      "    (8): Conv2d(12, 18, kernel_size=(3, 3), stride=(1, 1), padding=(1, 1))\n",
      "    (9): BatchNorm2d(18, eps=1e-05, momentum=0.1, affine=True, track_running_stats=True)\n",
      "    (10): ReLU(inplace=True)\n",
      "    (11): MaxPool2d(kernel_size=2, stride=2, padding=0, dilation=1, ceil_mode=False)\n",
      "    (12): Conv2d(18, 36, kernel_size=(3, 3), stride=(1, 1), padding=(1, 1))\n",
      "    (13): BatchNorm2d(36, eps=1e-05, momentum=0.1, affine=True, track_running_stats=True)\n",
      "    (14): ReLU(inplace=True)\n",
      "    (15): MaxPool2d(kernel_size=2, stride=2, padding=0, dilation=1, ceil_mode=False)\n",
      "  )\n",
      "  (linear_layers): Sequential(\n",
      "    (0): Linear(in_features=7056, out_features=3, bias=True)\n",
      "  )\n",
      "  (softmax): LogSoftmax(dim=1)\n",
      ")\n"
     ]
    }
   ],
   "source": [
    "device = torch.device('cuda' if torch.cuda.is_available() else 'cpu')\n",
    "print(f'Available device: {device}')\n",
    "\n",
    "# Initializing the model\n",
    "model = Net()\n",
    "\n",
    "# Defining the optimizer\n",
    "optimizer = Adam(model.parameters(), lr=0.05)\n",
    "\n",
    "# defining the loss function\n",
    "criterion = NLLLoss()\n",
    "\n",
    "# Checking if GPU is available and place model and criteria on devices\n",
    "if device == 'cuda':\n",
    "    model = model.cuda()\n",
    "    criterion = criterion.cuda()\n",
    "\n",
    "# Model description\n",
    "pytorch_total_params =  sum(p.numel() for p in model.parameters())\n",
    "print(f'Number of params: {pytorch_total_params}')\n",
    "print(model)"
   ]
  },
  {
   "cell_type": "markdown",
   "id": "21c2e7d5",
   "metadata": {},
   "source": [
    "# Train"
   ]
  },
  {
   "cell_type": "code",
   "execution_count": 36,
   "id": "62e9e21e",
   "metadata": {
    "scrolled": false
   },
   "outputs": [
    {
     "name": "stdout",
     "output_type": "stream",
     "text": [
      "Epoch 1/3.. Train loss: 26.942.. Test loss: 508.644.. Test accuracy: 0.333\n",
      "Epoch 1/3.. Train loss: 11.998.. Test loss: 2.790.. Test accuracy: 0.683\n",
      "Epoch 1/3.. Train loss: 4.350.. Test loss: 0.940.. Test accuracy: 0.800\n",
      "Epoch 1/3.. Train loss: 0.419.. Test loss: 0.311.. Test accuracy: 0.917\n",
      "Epoch 2/3.. Train loss: 0.402.. Test loss: 0.381.. Test accuracy: 0.867\n",
      "Epoch 2/3.. Train loss: 0.486.. Test loss: 0.347.. Test accuracy: 0.833\n",
      "Epoch 2/3.. Train loss: 0.309.. Test loss: 0.263.. Test accuracy: 0.950\n",
      "Epoch 2/3.. Train loss: 0.359.. Test loss: 0.247.. Test accuracy: 0.950\n",
      "Epoch 2/3.. Train loss: 0.369.. Test loss: 0.170.. Test accuracy: 0.917\n",
      "Epoch 3/3.. Train loss: 0.250.. Test loss: 0.258.. Test accuracy: 0.933\n",
      "Epoch 3/3.. Train loss: 0.158.. Test loss: 0.196.. Test accuracy: 0.967\n",
      "Epoch 3/3.. Train loss: 0.081.. Test loss: 0.226.. Test accuracy: 0.950\n",
      "Epoch 3/3.. Train loss: 0.367.. Test loss: 0.142.. Test accuracy: 0.933\n",
      "Epoch 3/3.. Train loss: 0.216.. Test loss: 0.140.. Test accuracy: 0.950\n"
     ]
    }
   ],
   "source": [
    "epochs = 3\n",
    "steps = 0\n",
    "running_loss = 0\n",
    "print_every = 10\n",
    "train_losses, test_losses = [], []\n",
    "\n",
    "for epoch in range(epochs):\n",
    "    for inputs, labels in trainloader:\n",
    "        steps += 1\n",
    "        inputs, labels = inputs.to(device), labels.to(device)\n",
    "        optimizer.zero_grad()\n",
    "        logps = model.forward(inputs)\n",
    "        loss = criterion(logps, labels)\n",
    "        loss.backward()\n",
    "        optimizer.step()\n",
    "        running_loss += loss.item()\n",
    "        \n",
    "        if steps % print_every == 0:\n",
    "            test_loss = 0\n",
    "            accuracy = 0\n",
    "            model.eval()\n",
    "            with torch.no_grad():\n",
    "                for inputs, labels in testloader:\n",
    "                    inputs, labels = inputs.to(device),labels.to(device)\n",
    "                    logps = model.forward(inputs)\n",
    "                    batch_loss = criterion(logps, labels)\n",
    "                    test_loss += batch_loss.item()\n",
    "                    ps = torch.exp(logps)\n",
    "                    top_p, top_class = ps.topk(1, dim=1)\n",
    "                    equals = top_class == labels.view(*top_class.shape)\n",
    "                    accuracy +=torch.mean(equals.type(torch.FloatTensor)).item()\n",
    "            train_losses.append(running_loss/len(trainloader))\n",
    "            test_losses.append(test_loss/len(testloader))                    \n",
    "            print(f\"Epoch {epoch+1}/{epochs}.. \"\n",
    "                  f\"Train loss: {running_loss/print_every:.3f}.. \"\n",
    "                  f\"Test loss: {test_loss/len(testloader):.3f}.. \"\n",
    "                  f\"Test accuracy: {accuracy/len(testloader):.3f}\")\n",
    "            running_loss = 0\n",
    "            model.train()"
   ]
  },
  {
   "cell_type": "markdown",
   "id": "a16625f4",
   "metadata": {},
   "source": [
    "## Plotting the results"
   ]
  },
  {
   "cell_type": "code",
   "execution_count": 44,
   "id": "efd651b0",
   "metadata": {},
   "outputs": [
    {
     "data": {
      "image/png": "[encoded data removed]",
      "text/plain": [
       "<Figure size 432x288 with 1 Axes>"
      ]
     },
     "metadata": {
      "needs_background": "light"
     },
     "output_type": "display_data"
    }
   ],
   "source": [
    "# Skip first pair because difference on Train and Val is so big that plot is not representable..\n",
    "plt.plot(train_losses[1:], label='Training loss')\n",
    "plt.plot(test_losses[1:], label='Validation loss')\n",
    "plt.ylabel('loss')\n",
    "plt.xlabel('Iterations over batchs / 10')\n",
    "plt.legend(frameon=False)\n",
    "plt.show()"
   ]
  },
  {
   "cell_type": "markdown",
   "id": "a8014ecb",
   "metadata": {},
   "source": [
    "# Saving model"
   ]
  },
  {
   "cell_type": "code",
   "execution_count": 56,
   "id": "33ffe998",
   "metadata": {},
   "outputs": [],
   "source": [
    "torch.save(model.state_dict(), 'train_model_state_dict.pt')"
   ]
  },
  {
   "cell_type": "markdown",
   "id": "b85759d2",
   "metadata": {},
   "source": [
    "# Inference"
   ]
  },
  {
   "cell_type": "code",
   "execution_count": null,
   "id": "75b05148",
   "metadata": {},
   "outputs": [],
   "source": [
    "# ToDo device and model required to be function parameters"
   ]
  },
  {
   "cell_type": "code",
   "execution_count": 57,
   "id": "96f16f5f",
   "metadata": {
    "scrolled": false
   },
   "outputs": [
    {
     "data": {
      "text/plain": [
       "Net(\n",
       "  (cnn_layer): Sequential(\n",
       "    (0): Conv2d(3, 6, kernel_size=(3, 3), stride=(1, 1), padding=(1, 1))\n",
       "    (1): BatchNorm2d(6, eps=1e-05, momentum=0.1, affine=True, track_running_stats=True)\n",
       "    (2): ReLU(inplace=True)\n",
       "    (3): MaxPool2d(kernel_size=2, stride=2, padding=0, dilation=1, ceil_mode=False)\n",
       "    (4): Conv2d(6, 12, kernel_size=(3, 3), stride=(1, 1), padding=(1, 1))\n",
       "    (5): BatchNorm2d(12, eps=1e-05, momentum=0.1, affine=True, track_running_stats=True)\n",
       "    (6): ReLU(inplace=True)\n",
       "    (7): MaxPool2d(kernel_size=2, stride=2, padding=0, dilation=1, ceil_mode=False)\n",
       "    (8): Conv2d(12, 18, kernel_size=(3, 3), stride=(1, 1), padding=(1, 1))\n",
       "    (9): BatchNorm2d(18, eps=1e-05, momentum=0.1, affine=True, track_running_stats=True)\n",
       "    (10): ReLU(inplace=True)\n",
       "    (11): MaxPool2d(kernel_size=2, stride=2, padding=0, dilation=1, ceil_mode=False)\n",
       "    (12): Conv2d(18, 36, kernel_size=(3, 3), stride=(1, 1), padding=(1, 1))\n",
       "    (13): BatchNorm2d(36, eps=1e-05, momentum=0.1, affine=True, track_running_stats=True)\n",
       "    (14): ReLU(inplace=True)\n",
       "    (15): MaxPool2d(kernel_size=2, stride=2, padding=0, dilation=1, ceil_mode=False)\n",
       "  )\n",
       "  (linear_layers): Sequential(\n",
       "    (0): Linear(in_features=7056, out_features=3, bias=True)\n",
       "  )\n",
       "  (softmax): LogSoftmax(dim=1)\n",
       ")"
      ]
     },
     "execution_count": 57,
     "metadata": {},
     "output_type": "execute_result"
    }
   ],
   "source": [
    "# In notebook we can simply load the model \n",
    "test_transforms = transforms.Compose(\n",
    "    [\n",
    "     transforms.Resize((224,224)),\n",
    "     transforms.ToTensor(),\n",
    "    ]\n",
    ")\n",
    "# cuda or cpu\n",
    "device = torch.device(\"cuda\" if torch.cuda.is_available() else \"cpu\")\n",
    "\n",
    "# load model\n",
    "del model\n",
    "model = Net()\n",
    "m_state_dict = torch.load('train_model_state_dict.pt')\n",
    "model.load_state_dict(m_state_dict)\n",
    "model.eval()"
   ]
  },
  {
   "cell_type": "code",
   "execution_count": 58,
   "id": "39cc9a34",
   "metadata": {},
   "outputs": [],
   "source": [
    "def predict_image(image, model):\n",
    "    image_tensor = test_transforms(image).float()\n",
    "    image_tensor = image_tensor.unsqueeze_(0)\n",
    "    input_ = Variable(image_tensor)\n",
    "    input_ = input_.to(device)\n",
    "    output = model(input_)\n",
    "    index = output.data.cpu().numpy().argmax()\n",
    "    return index"
   ]
  },
  {
   "cell_type": "code",
   "execution_count": 59,
   "id": "0b120e87",
   "metadata": {},
   "outputs": [],
   "source": [
    "def get_random_images(num):\n",
    "    data = datasets.ImageFolder(data_dir, transform=test_transforms)\n",
    "    classes = data.classes\n",
    "    indices = list(range(len(data)))\n",
    "    np.random.shuffle(indices)\n",
    "    idx = indices[:num]\n",
    "    from torch.utils.data.sampler import SubsetRandomSampler\n",
    "    sampler = SubsetRandomSampler(idx)\n",
    "    loader = torch.utils.data.DataLoader(data, \n",
    "                   sampler=sampler, batch_size=num)\n",
    "    dataiter = iter(loader)\n",
    "    images, labels = dataiter.next()\n",
    "    return images, labels"
   ]
  },
  {
   "cell_type": "code",
   "execution_count": 61,
   "id": "31c96cc2",
   "metadata": {
    "scrolled": false
   },
   "outputs": [
    {
     "data": {
      "image/png": "[encoded data removed]",
      "text/plain": [
       "<Figure size 720x720 with 5 Axes>"
      ]
     },
     "metadata": {
      "needs_background": "light"
     },
     "output_type": "display_data"
    }
   ],
   "source": [
    "classes = ['Bed', 'Chair', 'Sofa']\n",
    "to_pil = transforms.ToPILImage()\n",
    "images, labels = get_random_images(5)\n",
    "fig=plt.figure(figsize=(10,10))\n",
    "for ii in range(len(images)):\n",
    "    image = to_pil(images[ii])\n",
    "    index = predict_image(image, model)\n",
    "    sub = fig.add_subplot(1, len(images), ii+1)\n",
    "    res = int(labels[ii]) == index\n",
    "    sub.set_title(str(classes[index]) + \":\" + str(res))\n",
    "    plt.axis('off')\n",
    "    plt.imshow(image)\n",
    "plt.show()"
   ]
  }
 ],
 "metadata": {
  "kernelspec": {
   "display_name": "work_env",
   "language": "python",
   "name": "work_env"
  },
  "language_info": {
   "codemirror_mode": {
    "name": "ipython",
    "version": 3
   },
   "file_extension": ".py",
   "mimetype": "text/x-python",
   "name": "python",
   "nbconvert_exporter": "python",
   "pygments_lexer": "ipython3",
   "version": "3.8.9"
  }
 },
 "nbformat": 4,
 "nbformat_minor": 5
}
